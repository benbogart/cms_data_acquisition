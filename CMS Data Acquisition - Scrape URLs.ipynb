{
 "cells": [
  {
   "cell_type": "markdown",
   "metadata": {
    "toc": true
   },
   "source": [
    "<h1>Table of Contents<span class=\"tocSkip\"></span></h1>\n",
    "<div class=\"toc\"><ul class=\"toc-item\"><li><span><a href=\"#Scrape-URLs\" data-toc-modified-id=\"Scrape-URLs-1\"><span class=\"toc-item-num\">1&nbsp;&nbsp;</span>Scrape URLs</a></span><ul class=\"toc-item\"><li><span><a href=\"#Base-Page\" data-toc-modified-id=\"Base-Page-1.1\"><span class=\"toc-item-num\">1.1&nbsp;&nbsp;</span>Base Page</a></span></li><li><span><a href=\"#Collect-all-URLs-for-each-report\" data-toc-modified-id=\"Collect-all-URLs-for-each-report-1.2\"><span class=\"toc-item-num\">1.2&nbsp;&nbsp;</span>Collect all URLs for each report</a></span><ul class=\"toc-item\"><li><span><a href=\"#Sanity-Check\" data-toc-modified-id=\"Sanity-Check-1.2.1\"><span class=\"toc-item-num\">1.2.1&nbsp;&nbsp;</span>Sanity Check</a></span></li></ul></li></ul></li><li><span><a href=\"#Download-and-extract-files\" data-toc-modified-id=\"Download-and-extract-files-2\"><span class=\"toc-item-num\">2&nbsp;&nbsp;</span>Download and extract files</a></span></li></ul></div>"
   ]
  },
  {
   "cell_type": "code",
   "execution_count": 1,
   "metadata": {},
   "outputs": [],
   "source": [
    "from bs4 import BeautifulSoup\n",
    "import requests\n",
    "import pandas as pd\n",
    "import numpy as np"
   ]
  },
  {
   "cell_type": "markdown",
   "metadata": {},
   "source": [
    "# Scrape URLs\n",
    "## Base Page"
   ]
  },
  {
   "cell_type": "code",
   "execution_count": 2,
   "metadata": {},
   "outputs": [],
   "source": [
    "base_url = 'https://www.cms.gov/Research-Statistics-Data-and-Systems/Statistics-Trends-and-Reports/MCRAdvPartDEnrolData'"
   ]
  },
  {
   "cell_type": "code",
   "execution_count": 3,
   "metadata": {},
   "outputs": [],
   "source": [
    "r = requests.get(base_url)\n",
    "soup = BeautifulSoup(r.text, 'html.parser')"
   ]
  },
  {
   "cell_type": "code",
   "execution_count": 4,
   "metadata": {},
   "outputs": [
    {
     "data": {
      "text/plain": [
       "['/Research-Statistics-Data-and-Systems/Statistics-Trends-and-Reports/MCRAdvPartDEnrolData/Monthly-Contract-and-Enrollment-Summary-Report',\n",
       " '/Research-Statistics-Data-and-Systems/Statistics-Trends-and-Reports/MCRAdvPartDEnrolData/Monthly-Enrollment-by-Contract',\n",
       " '/Research-Statistics-Data-and-Systems/Statistics-Trends-and-Reports/MCRAdvPartDEnrolData/Monthly-Enrollment-by-Contract-Plan-State-County',\n",
       " '/Research-Statistics-Data-and-Systems/Statistics-Trends-and-Reports/MCRAdvPartDEnrolData/Monthly-Enrollment-by-Plan',\n",
       " '/Research-Statistics-Data-and-Systems/Statistics-Trends-and-Reports/MCRAdvPartDEnrolData/Monthly-Enrollment-by-State']"
      ]
     },
     "execution_count": 4,
     "metadata": {},
     "output_type": "execute_result"
    }
   ],
   "source": [
    "left_menu = soup.find(\"div\", {\"id\": 'block-cmsmainnavigation'})\n",
    "reports = left_menu.findAll(\"li\", {\"class\": 'menu-item'})\n",
    "report_urls = [r.find(\"a\")['href'] for r in reports]\n",
    "report_urls[:5]"
   ]
  },
  {
   "cell_type": "code",
   "execution_count": 5,
   "metadata": {},
   "outputs": [
    {
     "data": {
      "text/plain": [
       "26"
      ]
     },
     "execution_count": 5,
     "metadata": {},
     "output_type": "execute_result"
    }
   ],
   "source": [
    "# verify that there are 26 report urls\n",
    "len(report_urls)"
   ]
  },
  {
   "cell_type": "markdown",
   "metadata": {},
   "source": [
    "## Collect all URLs for each report"
   ]
  },
  {
   "cell_type": "code",
   "execution_count": 6,
   "metadata": {},
   "outputs": [],
   "source": [
    "def get_page_soup(url, params = {'items_per_page':100}): \n",
    "    r = requests.get(url,params=params)    \n",
    "    soup = BeautifulSoup(r.text, 'html.parser')\n",
    "    return soup\n",
    "\n",
    "def extract_num_entries(soup):\n",
    "    #regex, or BS?\n",
    "    entries_text = soup.find('span', {'class': 'ds-l-sm-col--12'}).text.strip()\n",
    "    num_entries = entries_text.split(' ')[-2]    \n",
    "    return int(num_entries)\n",
    "    \n",
    "def extract_monthly_report_urls(soup):\n",
    "    \n",
    "    # extract table rows\n",
    "    table = soup.find('div', {'class':'view-content'})\n",
    "    body = soup.find('tbody')\n",
    "    rows = body.findAll('tr')\n",
    "    \n",
    "    # local data storage object\n",
    "    reports = {'report_period':[],\n",
    "               'report_title':[],\n",
    "               'report_url':[]}\n",
    "    \n",
    "    # extract row wise data\n",
    "    for row in rows:\n",
    "        cells = row.findAll('td')\n",
    "        reports['report_period'].append(cells[1].text)\n",
    "        reports['report_title'].append(cells[0].text)\n",
    "        reports['report_url'].append(cells[0].a['href'])\n",
    "    \n",
    "    # return as DataFrame\n",
    "    df = pd.DataFrame(reports)\n",
    "    \n",
    "    return df\n",
    "\n",
    "def extract_single_file_download(soup):\n",
    "    # extract table rows\n",
    "    rows = soup.findAll('div', {'class':'media--view-mode-file-list'})\n",
    "    \n",
    "    # local data storage object\n",
    "    reports = {'report_period':[],\n",
    "               'report_title':[],\n",
    "               'report_url':[]}\n",
    "    \n",
    "    # extract row wise data\n",
    "    for row in rows:\n",
    "\n",
    "        reports['report_period'] = np.nan\n",
    "        reports['report_title'].append(row.text.strip())\n",
    "        reports['report_url'].append(row.a['href'])\n",
    "    \n",
    "    # return as DataFrame\n",
    "    df = pd.DataFrame(reports)\n",
    "    \n",
    "    return df\n",
    "\n",
    "def extract_page_title(soup):\n",
    "    return soup.find(id='skipNavTarget').text.strip()\n",
    "\n",
    "def extract_description(soup):\n",
    "    return soup.find('div', {'id':'block-cms-drupal-global-content'}).div.p.text\n",
    "\n",
    "def is_single_file_download(soup):\n",
    "    if soup.find('h2', {'class':'field__label'}):\n",
    "        return True\n",
    "    return False\n",
    "\n",
    "def get_all_pages(url):\n",
    "    # page can be select with `page` and `items_per_page` params\n",
    "    \n",
    "    params = {'items_per_page':100}\n",
    "    soup = get_page_soup(url, params)\n",
    "    \n",
    "    # test for single download\n",
    "    if is_single_file_download(soup):\n",
    "        df = extract_single_file_download(soup)\n",
    "    else:\n",
    "        # get number of entries\n",
    "        num_entries = extract_num_entries(soup)\n",
    "\n",
    "        # get first page\n",
    "        df = extract_monthly_report_urls(soup)    \n",
    "\n",
    "        # 0 indexed page id\n",
    "        page = 0\n",
    "        while len(df) < num_entries:\n",
    "            page += 1\n",
    "            params['page'] = page\n",
    "            soup = get_page_soup(url, params)\n",
    "            df = pd.concat([df, extract_monthly_report_urls(soup)])\n",
    "        \n",
    "    df['description'] = extract_description(soup)\n",
    "    df['page_title'] = extract_page_title(soup)\n",
    "    df['page_url'] = url\n",
    "    return df"
   ]
  },
  {
   "cell_type": "raw",
   "metadata": {},
   "source": [
    "single_download_urls = ['/research-statistics-data-systems/medicare-advantagepart-d-contract-and-enrollment-data/monthly-online-enrollment-center-oec-report',\n",
    "                '/Research-Statistics-Data-and-Systems/Statistics-Trends-and-Reports/MCRAdvPartDEnrolData/MA-Plan-Directory',\n",
    "                '/Research-Statistics-Data-and-Systems/Statistics-Trends-and-Reports/MCRAdvPartDEnrolData/PDP-Plan-Directory',\n",
    "                '/Research-Statistics-Data-and-Systems/Statistics-Trends-and-Reports/MCRAdvPartDEnrolData/MA-Claims-Processing-Contacts',\n",
    "                '/Research-Statistics-Data-and-Systems/Statistics-Trends-and-Reports/MCRAdvPartDEnrolData/Corrective-Action-Plans']\n"
   ]
  },
  {
   "cell_type": "code",
   "execution_count": 8,
   "metadata": {},
   "outputs": [
    {
     "name": "stdout",
     "output_type": "stream",
     "text": [
      "0 https://www.cms.gov/Research-Statistics-Data-and-Systems/Statistics-Trends-and-Reports/MCRAdvPartDEnrolData/Monthly-Contract-and-Enrollment-Summary-Report\n",
      "1 https://www.cms.gov/Research-Statistics-Data-and-Systems/Statistics-Trends-and-Reports/MCRAdvPartDEnrolData/Monthly-Enrollment-by-Contract\n",
      "2 https://www.cms.gov/Research-Statistics-Data-and-Systems/Statistics-Trends-and-Reports/MCRAdvPartDEnrolData/Monthly-Enrollment-by-Contract-Plan-State-County\n",
      "3 https://www.cms.gov/Research-Statistics-Data-and-Systems/Statistics-Trends-and-Reports/MCRAdvPartDEnrolData/Monthly-Enrollment-by-Plan\n",
      "4 https://www.cms.gov/Research-Statistics-Data-and-Systems/Statistics-Trends-and-Reports/MCRAdvPartDEnrolData/Monthly-Enrollment-by-State\n",
      "5 https://www.cms.gov/research-statistics-data-systems/medicare-advantagepart-d-contract-and-enrollment-data/monthly-online-enrollment-center-oec-report\n",
      "6 https://www.cms.gov/Research-Statistics-Data-and-Systems/Statistics-Trends-and-Reports/MCRAdvPartDEnrolData/Monthly-MA-Enrollment-by-State-County-Contract\n",
      "7 https://www.cms.gov/Research-Statistics-Data-and-Systems/Statistics-Trends-and-Reports/MCRAdvPartDEnrolData/Monthly-PDP-Enrollment-by-State-County-Contract\n",
      "8 https://www.cms.gov/Research-Statistics-Data-and-Systems/Statistics-Trends-and-Reports/MCRAdvPartDEnrolData/Monthly-MA-Enrollment-by-State-County-Plan-Type\n",
      "9 https://www.cms.gov/Research-Statistics-Data-and-Systems/Statistics-Trends-and-Reports/MCRAdvPartDEnrolData/Monthly-PDP-Enrollment-by-State-County-Plan-Type\n",
      "10 https://www.cms.gov/Research-Statistics-Data-and-Systems/Statistics-Trends-and-Reports/MCRAdvPartDEnrolData/MA-State-County-Penetration\n",
      "11 https://www.cms.gov/Research-Statistics-Data-and-Systems/Statistics-Trends-and-Reports/MCRAdvPartDEnrolData/PDP-State-County-Penetration\n",
      "12 https://www.cms.gov/Research-Statistics-Data-and-Systems/Statistics-Trends-and-Reports/MCRAdvPartDEnrolData/MA-Contract-Service-Area-by-State-County\n",
      "13 https://www.cms.gov/Research-Statistics-Data-and-Systems/Statistics-Trends-and-Reports/MCRAdvPartDEnrolData/PDP-Contract-Service-Area-by-State-County\n",
      "14 https://www.cms.gov/Research-Statistics-Data-and-Systems/Statistics-Trends-and-Reports/MCRAdvPartDEnrolData/Special-Needs-Plan-SNP-Data\n",
      "15 https://www.cms.gov/Research-Statistics-Data-and-Systems/Statistics-Trends-and-Reports/MCRAdvPartDEnrolData/State-Service-Area\n",
      "16 https://www.cms.gov/Research-Statistics-Data-and-Systems/Statistics-Trends-and-Reports/MCRAdvPartDEnrolData/MA-HEDIS-Public-Use-Files\n",
      "17 https://www.cms.gov/Research-Statistics-Data-and-Systems/Statistics-Trends-and-Reports/MCRAdvPartDEnrolData/SNP-HEDIS-Public-Use-Files\n",
      "18 https://www.cms.gov/Research-Statistics-Data-and-Systems/Statistics-Trends-and-Reports/MCRAdvPartDEnrolData/MA-Plan-Directory\n",
      "19 https://www.cms.gov/Research-Statistics-Data-and-Systems/Statistics-Trends-and-Reports/MCRAdvPartDEnrolData/PDP-Plan-Directory\n",
      "20 https://www.cms.gov/Research-Statistics-Data-and-Systems/Statistics-Trends-and-Reports/MCRAdvPartDEnrolData/MA-Claims-Processing-Contacts\n",
      "21 https://www.cms.gov/Research-Statistics-Data-and-Systems/Statistics-Trends-and-Reports/MCRAdvPartDEnrolData/LIS-Enrollment-by-Plan\n",
      "22 https://www.cms.gov/Research-Statistics-Data-and-Systems/Statistics-Trends-and-Reports/MCRAdvPartDEnrolData/LIS-Contract-Enrollment-by-County\n",
      "23 https://www.cms.gov/Research-Statistics-Data-and-Systems/Statistics-Trends-and-Reports/MCRAdvPartDEnrolData/Plan-Crosswalks\n",
      "24 https://www.cms.gov/Research-Statistics-Data-and-Systems/Statistics-Trends-and-Reports/MCRAdvPartDEnrolData/Benefits-Data\n",
      "25 https://www.cms.gov/Research-Statistics-Data-and-Systems/Statistics-Trends-and-Reports/MCRAdvPartDEnrolData/Corrective-Action-Plans\n"
     ]
    }
   ],
   "source": [
    "# get separate dataframes of all the report urls.\n",
    "dfs = []\n",
    "\n",
    "for idx, report_url in enumerate(report_urls):\n",
    "\n",
    "    url='https://www.cms.gov'+report_url\n",
    "    print(idx, url)\n",
    "\n",
    "    pages = get_all_pages(url)\n",
    "    dfs.append(get_all_pages(url))"
   ]
  },
  {
   "cell_type": "code",
   "execution_count": 9,
   "metadata": {},
   "outputs": [
    {
     "data": {
      "text/html": [
       "<div>\n",
       "<style scoped>\n",
       "    .dataframe tbody tr th:only-of-type {\n",
       "        vertical-align: middle;\n",
       "    }\n",
       "\n",
       "    .dataframe tbody tr th {\n",
       "        vertical-align: top;\n",
       "    }\n",
       "\n",
       "    .dataframe thead th {\n",
       "        text-align: right;\n",
       "    }\n",
       "</style>\n",
       "<table border=\"1\" class=\"dataframe\">\n",
       "  <thead>\n",
       "    <tr style=\"text-align: right;\">\n",
       "      <th></th>\n",
       "      <th>report_period</th>\n",
       "      <th>report_title</th>\n",
       "      <th>report_url</th>\n",
       "      <th>description</th>\n",
       "      <th>page_title</th>\n",
       "      <th>page_url</th>\n",
       "    </tr>\n",
       "  </thead>\n",
       "  <tbody>\n",
       "    <tr>\n",
       "      <th>0</th>\n",
       "      <td>2021-05</td>\n",
       "      <td>Contract Summary</td>\n",
       "      <td>/research-statistics-data-and-systemsstatistic...</td>\n",
       "      <td>Monthly Contract and Enrollment Summary Report</td>\n",
       "      <td>Monthly Contract and Enrollment Summary Report</td>\n",
       "      <td>https://www.cms.gov/Research-Statistics-Data-a...</td>\n",
       "    </tr>\n",
       "    <tr>\n",
       "      <th>1</th>\n",
       "      <td>2021-04</td>\n",
       "      <td>Contract Summary</td>\n",
       "      <td>/research-statistics-data-and-systemsstatistic...</td>\n",
       "      <td>Monthly Contract and Enrollment Summary Report</td>\n",
       "      <td>Monthly Contract and Enrollment Summary Report</td>\n",
       "      <td>https://www.cms.gov/Research-Statistics-Data-a...</td>\n",
       "    </tr>\n",
       "    <tr>\n",
       "      <th>2</th>\n",
       "      <td>2021-03</td>\n",
       "      <td>Contract Summary</td>\n",
       "      <td>/research-statistics-data-and-systemsstatistic...</td>\n",
       "      <td>Monthly Contract and Enrollment Summary Report</td>\n",
       "      <td>Monthly Contract and Enrollment Summary Report</td>\n",
       "      <td>https://www.cms.gov/Research-Statistics-Data-a...</td>\n",
       "    </tr>\n",
       "    <tr>\n",
       "      <th>3</th>\n",
       "      <td>2021-02</td>\n",
       "      <td>Contract Summary</td>\n",
       "      <td>/research-statistics-data-and-systemsstatistic...</td>\n",
       "      <td>Monthly Contract and Enrollment Summary Report</td>\n",
       "      <td>Monthly Contract and Enrollment Summary Report</td>\n",
       "      <td>https://www.cms.gov/Research-Statistics-Data-a...</td>\n",
       "    </tr>\n",
       "    <tr>\n",
       "      <th>4</th>\n",
       "      <td>2021-01</td>\n",
       "      <td>Contract Summary</td>\n",
       "      <td>/research-statistics-data-and-systemsstatistic...</td>\n",
       "      <td>Monthly Contract and Enrollment Summary Report</td>\n",
       "      <td>Monthly Contract and Enrollment Summary Report</td>\n",
       "      <td>https://www.cms.gov/Research-Statistics-Data-a...</td>\n",
       "    </tr>\n",
       "    <tr>\n",
       "      <th>...</th>\n",
       "      <td>...</td>\n",
       "      <td>...</td>\n",
       "      <td>...</td>\n",
       "      <td>...</td>\n",
       "      <td>...</td>\n",
       "      <td>...</td>\n",
       "    </tr>\n",
       "    <tr>\n",
       "      <th>1</th>\n",
       "      <td>NaN</td>\n",
       "      <td>CAP Summary Report - Updated 12/05/2012 (PDF)</td>\n",
       "      <td>/Research-Statistics-Data-and-Systems/Statisti...</td>\n",
       "      <td>Title: Corrective Action Plans</td>\n",
       "      <td>Corrective Action Plans</td>\n",
       "      <td>https://www.cms.gov/Research-Statistics-Data-a...</td>\n",
       "    </tr>\n",
       "    <tr>\n",
       "      <th>2</th>\n",
       "      <td>NaN</td>\n",
       "      <td>CAP Detail Data File - Abbreviated Version - U...</td>\n",
       "      <td>/Research-Statistics-Data-and-Systems/Statisti...</td>\n",
       "      <td>Title: Corrective Action Plans</td>\n",
       "      <td>Corrective Action Plans</td>\n",
       "      <td>https://www.cms.gov/Research-Statistics-Data-a...</td>\n",
       "    </tr>\n",
       "    <tr>\n",
       "      <th>3</th>\n",
       "      <td>NaN</td>\n",
       "      <td>CAP Detail Report - Updated 12/05/2012 (ZIP)</td>\n",
       "      <td>/Research-Statistics-Data-and-Systems/Statisti...</td>\n",
       "      <td>Title: Corrective Action Plans</td>\n",
       "      <td>Corrective Action Plans</td>\n",
       "      <td>https://www.cms.gov/Research-Statistics-Data-a...</td>\n",
       "    </tr>\n",
       "    <tr>\n",
       "      <th>4</th>\n",
       "      <td>NaN</td>\n",
       "      <td>CAP Read-Me File (ZIP)</td>\n",
       "      <td>/Research-Statistics-Data-and-Systems/Statisti...</td>\n",
       "      <td>Title: Corrective Action Plans</td>\n",
       "      <td>Corrective Action Plans</td>\n",
       "      <td>https://www.cms.gov/Research-Statistics-Data-a...</td>\n",
       "    </tr>\n",
       "    <tr>\n",
       "      <th>5</th>\n",
       "      <td>NaN</td>\n",
       "      <td>CAP Overview (PDF)</td>\n",
       "      <td>/Research-Statistics-Data-and-Systems/Statisti...</td>\n",
       "      <td>Title: Corrective Action Plans</td>\n",
       "      <td>Corrective Action Plans</td>\n",
       "      <td>https://www.cms.gov/Research-Statistics-Data-a...</td>\n",
       "    </tr>\n",
       "  </tbody>\n",
       "</table>\n",
       "<p>2342 rows × 6 columns</p>\n",
       "</div>"
      ],
      "text/plain": [
       "        report_period                                       report_title  \\\n",
       "0   2021-05                                            Contract Summary    \n",
       "1   2021-04                                            Contract Summary    \n",
       "2   2021-03                                            Contract Summary    \n",
       "3   2021-02                                            Contract Summary    \n",
       "4   2021-01                                            Contract Summary    \n",
       "..                ...                                                ...   \n",
       "1                 NaN      CAP Summary Report - Updated 12/05/2012 (PDF)   \n",
       "2                 NaN  CAP Detail Data File - Abbreviated Version - U...   \n",
       "3                 NaN       CAP Detail Report - Updated 12/05/2012 (ZIP)   \n",
       "4                 NaN                             CAP Read-Me File (ZIP)   \n",
       "5                 NaN                                 CAP Overview (PDF)   \n",
       "\n",
       "                                           report_url  \\\n",
       "0   /research-statistics-data-and-systemsstatistic...   \n",
       "1   /research-statistics-data-and-systemsstatistic...   \n",
       "2   /research-statistics-data-and-systemsstatistic...   \n",
       "3   /research-statistics-data-and-systemsstatistic...   \n",
       "4   /research-statistics-data-and-systemsstatistic...   \n",
       "..                                                ...   \n",
       "1   /Research-Statistics-Data-and-Systems/Statisti...   \n",
       "2   /Research-Statistics-Data-and-Systems/Statisti...   \n",
       "3   /Research-Statistics-Data-and-Systems/Statisti...   \n",
       "4   /Research-Statistics-Data-and-Systems/Statisti...   \n",
       "5   /Research-Statistics-Data-and-Systems/Statisti...   \n",
       "\n",
       "                                       description  \\\n",
       "0   Monthly Contract and Enrollment Summary Report   \n",
       "1   Monthly Contract and Enrollment Summary Report   \n",
       "2   Monthly Contract and Enrollment Summary Report   \n",
       "3   Monthly Contract and Enrollment Summary Report   \n",
       "4   Monthly Contract and Enrollment Summary Report   \n",
       "..                                             ...   \n",
       "1                   Title: Corrective Action Plans   \n",
       "2                   Title: Corrective Action Plans   \n",
       "3                   Title: Corrective Action Plans   \n",
       "4                   Title: Corrective Action Plans   \n",
       "5                   Title: Corrective Action Plans   \n",
       "\n",
       "                                        page_title  \\\n",
       "0   Monthly Contract and Enrollment Summary Report   \n",
       "1   Monthly Contract and Enrollment Summary Report   \n",
       "2   Monthly Contract and Enrollment Summary Report   \n",
       "3   Monthly Contract and Enrollment Summary Report   \n",
       "4   Monthly Contract and Enrollment Summary Report   \n",
       "..                                             ...   \n",
       "1                          Corrective Action Plans   \n",
       "2                          Corrective Action Plans   \n",
       "3                          Corrective Action Plans   \n",
       "4                          Corrective Action Plans   \n",
       "5                          Corrective Action Plans   \n",
       "\n",
       "                                             page_url  \n",
       "0   https://www.cms.gov/Research-Statistics-Data-a...  \n",
       "1   https://www.cms.gov/Research-Statistics-Data-a...  \n",
       "2   https://www.cms.gov/Research-Statistics-Data-a...  \n",
       "3   https://www.cms.gov/Research-Statistics-Data-a...  \n",
       "4   https://www.cms.gov/Research-Statistics-Data-a...  \n",
       "..                                                ...  \n",
       "1   https://www.cms.gov/Research-Statistics-Data-a...  \n",
       "2   https://www.cms.gov/Research-Statistics-Data-a...  \n",
       "3   https://www.cms.gov/Research-Statistics-Data-a...  \n",
       "4   https://www.cms.gov/Research-Statistics-Data-a...  \n",
       "5   https://www.cms.gov/Research-Statistics-Data-a...  \n",
       "\n",
       "[2342 rows x 6 columns]"
      ]
     },
     "execution_count": 9,
     "metadata": {},
     "output_type": "execute_result"
    }
   ],
   "source": [
    "df = pd.concat(dfs)\n",
    "df"
   ]
  },
  {
   "cell_type": "markdown",
   "metadata": {},
   "source": [
    "### Sanity Check"
   ]
  },
  {
   "cell_type": "code",
   "execution_count": 10,
   "metadata": {},
   "outputs": [
    {
     "data": {
      "text/plain": [
       "26"
      ]
     },
     "execution_count": 10,
     "metadata": {},
     "output_type": "execute_result"
    }
   ],
   "source": [
    "df['page_url'].nunique()"
   ]
  },
  {
   "cell_type": "code",
   "execution_count": 11,
   "metadata": {},
   "outputs": [
    {
     "data": {
      "text/plain": [
       "26"
      ]
     },
     "execution_count": 11,
     "metadata": {},
     "output_type": "execute_result"
    }
   ],
   "source": [
    "df['page_title'].nunique()"
   ]
  },
  {
   "cell_type": "code",
   "execution_count": 12,
   "metadata": {},
   "outputs": [
    {
     "data": {
      "text/plain": [
       "119"
      ]
     },
     "execution_count": 12,
     "metadata": {},
     "output_type": "execute_result"
    }
   ],
   "source": [
    "df['report_title'].nunique()"
   ]
  },
  {
   "cell_type": "markdown",
   "metadata": {},
   "source": [
    "I need to look into why there are so many report titles and what that means for storing these reports in a database."
   ]
  },
  {
   "cell_type": "code",
   "execution_count": 13,
   "metadata": {},
   "outputs": [
    {
     "data": {
      "text/html": [
       "<div>\n",
       "<style scoped>\n",
       "    .dataframe tbody tr th:only-of-type {\n",
       "        vertical-align: middle;\n",
       "    }\n",
       "\n",
       "    .dataframe tbody tr th {\n",
       "        vertical-align: top;\n",
       "    }\n",
       "\n",
       "    .dataframe thead th {\n",
       "        text-align: right;\n",
       "    }\n",
       "</style>\n",
       "<table border=\"1\" class=\"dataframe\">\n",
       "  <thead>\n",
       "    <tr style=\"text-align: right;\">\n",
       "      <th></th>\n",
       "      <th>report_period</th>\n",
       "      <th>report_title</th>\n",
       "      <th>report_url</th>\n",
       "      <th>description</th>\n",
       "      <th>page_title</th>\n",
       "      <th>page_url</th>\n",
       "    </tr>\n",
       "  </thead>\n",
       "  <tbody>\n",
       "    <tr>\n",
       "      <th>0</th>\n",
       "      <td>NaN</td>\n",
       "      <td>MPF-OEC-Enrollment-Data (ZIP)</td>\n",
       "      <td>/files/zip/mpf-oec-enrollment-data.zip</td>\n",
       "      <td>This dataset provides the total number of enro...</td>\n",
       "      <td>Monthly Online Enrollment Center (OEC) Report</td>\n",
       "      <td>https://www.cms.gov/research-statistics-data-s...</td>\n",
       "    </tr>\n",
       "    <tr>\n",
       "      <th>0</th>\n",
       "      <td>NaN</td>\n",
       "      <td>MA Plan Directory as of May 2021 (ZIP)</td>\n",
       "      <td>/Research-Statistics-Data-and-Systems/Statisti...</td>\n",
       "      <td>Plan Directory for MA, Cost, PACE, and Demo Or...</td>\n",
       "      <td>MA Plan Directory</td>\n",
       "      <td>https://www.cms.gov/Research-Statistics-Data-a...</td>\n",
       "    </tr>\n",
       "    <tr>\n",
       "      <th>0</th>\n",
       "      <td>NaN</td>\n",
       "      <td>PDP Plan Directory as of May 2021 (ZIP)</td>\n",
       "      <td>/Research-Statistics-Data-and-Systems/Statisti...</td>\n",
       "      <td>Title: PDP Plan Directory</td>\n",
       "      <td>PDP Plan Directory</td>\n",
       "      <td>https://www.cms.gov/Research-Statistics-Data-a...</td>\n",
       "    </tr>\n",
       "    <tr>\n",
       "      <th>0</th>\n",
       "      <td>NaN</td>\n",
       "      <td>MA Claims Processing Contacts as of May 2021 (...</td>\n",
       "      <td>/Research-Statistics-Data-and-Systems/Statisti...</td>\n",
       "      <td>Title: MA Claims Processing Contacts</td>\n",
       "      <td>MA Claims Processing Contacts</td>\n",
       "      <td>https://www.cms.gov/Research-Statistics-Data-a...</td>\n",
       "    </tr>\n",
       "    <tr>\n",
       "      <th>0</th>\n",
       "      <td>NaN</td>\n",
       "      <td>CAP Detail Data File - Updated 12/05/2012 (ZIP)</td>\n",
       "      <td>/Research-Statistics-Data-and-Systems/Statisti...</td>\n",
       "      <td>Title: Corrective Action Plans</td>\n",
       "      <td>Corrective Action Plans</td>\n",
       "      <td>https://www.cms.gov/Research-Statistics-Data-a...</td>\n",
       "    </tr>\n",
       "    <tr>\n",
       "      <th>1</th>\n",
       "      <td>NaN</td>\n",
       "      <td>CAP Summary Report - Updated 12/05/2012 (PDF)</td>\n",
       "      <td>/Research-Statistics-Data-and-Systems/Statisti...</td>\n",
       "      <td>Title: Corrective Action Plans</td>\n",
       "      <td>Corrective Action Plans</td>\n",
       "      <td>https://www.cms.gov/Research-Statistics-Data-a...</td>\n",
       "    </tr>\n",
       "    <tr>\n",
       "      <th>2</th>\n",
       "      <td>NaN</td>\n",
       "      <td>CAP Detail Data File - Abbreviated Version - U...</td>\n",
       "      <td>/Research-Statistics-Data-and-Systems/Statisti...</td>\n",
       "      <td>Title: Corrective Action Plans</td>\n",
       "      <td>Corrective Action Plans</td>\n",
       "      <td>https://www.cms.gov/Research-Statistics-Data-a...</td>\n",
       "    </tr>\n",
       "    <tr>\n",
       "      <th>3</th>\n",
       "      <td>NaN</td>\n",
       "      <td>CAP Detail Report - Updated 12/05/2012 (ZIP)</td>\n",
       "      <td>/Research-Statistics-Data-and-Systems/Statisti...</td>\n",
       "      <td>Title: Corrective Action Plans</td>\n",
       "      <td>Corrective Action Plans</td>\n",
       "      <td>https://www.cms.gov/Research-Statistics-Data-a...</td>\n",
       "    </tr>\n",
       "    <tr>\n",
       "      <th>4</th>\n",
       "      <td>NaN</td>\n",
       "      <td>CAP Read-Me File (ZIP)</td>\n",
       "      <td>/Research-Statistics-Data-and-Systems/Statisti...</td>\n",
       "      <td>Title: Corrective Action Plans</td>\n",
       "      <td>Corrective Action Plans</td>\n",
       "      <td>https://www.cms.gov/Research-Statistics-Data-a...</td>\n",
       "    </tr>\n",
       "    <tr>\n",
       "      <th>5</th>\n",
       "      <td>NaN</td>\n",
       "      <td>CAP Overview (PDF)</td>\n",
       "      <td>/Research-Statistics-Data-and-Systems/Statisti...</td>\n",
       "      <td>Title: Corrective Action Plans</td>\n",
       "      <td>Corrective Action Plans</td>\n",
       "      <td>https://www.cms.gov/Research-Statistics-Data-a...</td>\n",
       "    </tr>\n",
       "  </tbody>\n",
       "</table>\n",
       "</div>"
      ],
      "text/plain": [
       "  report_period                                       report_title  \\\n",
       "0           NaN                      MPF-OEC-Enrollment-Data (ZIP)   \n",
       "0           NaN             MA Plan Directory as of May 2021 (ZIP)   \n",
       "0           NaN            PDP Plan Directory as of May 2021 (ZIP)   \n",
       "0           NaN  MA Claims Processing Contacts as of May 2021 (...   \n",
       "0           NaN    CAP Detail Data File - Updated 12/05/2012 (ZIP)   \n",
       "1           NaN      CAP Summary Report - Updated 12/05/2012 (PDF)   \n",
       "2           NaN  CAP Detail Data File - Abbreviated Version - U...   \n",
       "3           NaN       CAP Detail Report - Updated 12/05/2012 (ZIP)   \n",
       "4           NaN                             CAP Read-Me File (ZIP)   \n",
       "5           NaN                                 CAP Overview (PDF)   \n",
       "\n",
       "                                          report_url  \\\n",
       "0             /files/zip/mpf-oec-enrollment-data.zip   \n",
       "0  /Research-Statistics-Data-and-Systems/Statisti...   \n",
       "0  /Research-Statistics-Data-and-Systems/Statisti...   \n",
       "0  /Research-Statistics-Data-and-Systems/Statisti...   \n",
       "0  /Research-Statistics-Data-and-Systems/Statisti...   \n",
       "1  /Research-Statistics-Data-and-Systems/Statisti...   \n",
       "2  /Research-Statistics-Data-and-Systems/Statisti...   \n",
       "3  /Research-Statistics-Data-and-Systems/Statisti...   \n",
       "4  /Research-Statistics-Data-and-Systems/Statisti...   \n",
       "5  /Research-Statistics-Data-and-Systems/Statisti...   \n",
       "\n",
       "                                         description  \\\n",
       "0  This dataset provides the total number of enro...   \n",
       "0  Plan Directory for MA, Cost, PACE, and Demo Or...   \n",
       "0                          Title: PDP Plan Directory   \n",
       "0               Title: MA Claims Processing Contacts   \n",
       "0                     Title: Corrective Action Plans   \n",
       "1                     Title: Corrective Action Plans   \n",
       "2                     Title: Corrective Action Plans   \n",
       "3                     Title: Corrective Action Plans   \n",
       "4                     Title: Corrective Action Plans   \n",
       "5                     Title: Corrective Action Plans   \n",
       "\n",
       "                                      page_title  \\\n",
       "0  Monthly Online Enrollment Center (OEC) Report   \n",
       "0                              MA Plan Directory   \n",
       "0                             PDP Plan Directory   \n",
       "0                  MA Claims Processing Contacts   \n",
       "0                        Corrective Action Plans   \n",
       "1                        Corrective Action Plans   \n",
       "2                        Corrective Action Plans   \n",
       "3                        Corrective Action Plans   \n",
       "4                        Corrective Action Plans   \n",
       "5                        Corrective Action Plans   \n",
       "\n",
       "                                            page_url  \n",
       "0  https://www.cms.gov/research-statistics-data-s...  \n",
       "0  https://www.cms.gov/Research-Statistics-Data-a...  \n",
       "0  https://www.cms.gov/Research-Statistics-Data-a...  \n",
       "0  https://www.cms.gov/Research-Statistics-Data-a...  \n",
       "0  https://www.cms.gov/Research-Statistics-Data-a...  \n",
       "1  https://www.cms.gov/Research-Statistics-Data-a...  \n",
       "2  https://www.cms.gov/Research-Statistics-Data-a...  \n",
       "3  https://www.cms.gov/Research-Statistics-Data-a...  \n",
       "4  https://www.cms.gov/Research-Statistics-Data-a...  \n",
       "5  https://www.cms.gov/Research-Statistics-Data-a...  "
      ]
     },
     "execution_count": 13,
     "metadata": {},
     "output_type": "execute_result"
    }
   ],
   "source": [
    "df[df['report_period'].isna()]"
   ]
  },
  {
   "cell_type": "markdown",
   "metadata": {},
   "source": [
    "# Download and extract files\n",
    "\n",
    "Download and extract files in a single step to avoid overtaxing the server."
   ]
  },
  {
   "cell_type": "code",
   "execution_count": null,
   "metadata": {},
   "outputs": [],
   "source": []
  }
 ],
 "metadata": {
  "kernelspec": {
   "display_name": "Python 3",
   "language": "python",
   "name": "python3"
  },
  "language_info": {
   "codemirror_mode": {
    "name": "ipython",
    "version": 3
   },
   "file_extension": ".py",
   "mimetype": "text/x-python",
   "name": "python",
   "nbconvert_exporter": "python",
   "pygments_lexer": "ipython3",
   "version": "3.8.5"
  },
  "toc": {
   "base_numbering": 1,
   "nav_menu": {},
   "number_sections": true,
   "sideBar": true,
   "skip_h1_title": false,
   "title_cell": "Table of Contents",
   "title_sidebar": "Contents",
   "toc_cell": true,
   "toc_position": {},
   "toc_section_display": true,
   "toc_window_display": false
  },
  "varInspector": {
   "cols": {
    "lenName": 16,
    "lenType": 16,
    "lenVar": 40
   },
   "kernels_config": {
    "python": {
     "delete_cmd_postfix": "",
     "delete_cmd_prefix": "del ",
     "library": "var_list.py",
     "varRefreshCmd": "print(var_dic_list())"
    },
    "r": {
     "delete_cmd_postfix": ") ",
     "delete_cmd_prefix": "rm(",
     "library": "var_list.r",
     "varRefreshCmd": "cat(var_dic_list()) "
    }
   },
   "types_to_exclude": [
    "module",
    "function",
    "builtin_function_or_method",
    "instance",
    "_Feature"
   ],
   "window_display": false
  }
 },
 "nbformat": 4,
 "nbformat_minor": 4
}
